{
 "cells": [
  {
   "cell_type": "markdown",
   "metadata": {},
   "source": [
    "Step 1: Data Cleaning"
   ]
  },
  {
   "cell_type": "code",
   "execution_count": null,
   "metadata": {},
   "outputs": [],
   "source": [
    "import pandas as pd\n",
    "import numpy as np\n",
    "import seaborn as sns\n",
    "import matplotlib.pyplot as plt"
   ]
  },
  {
   "cell_type": "code",
   "execution_count": null,
   "metadata": {},
   "outputs": [],
   "source": [
    "# Load the dataset\n",
    "df = pd.read_csv(\"C:/Users/devpa/Desktop/synthetic_employee_performance.csv\")\n",
    "\n",
    "# Inspect structure\n",
    "print(df.head())\n",
    "print(df.info())\n",
    "print(df.describe(include='all'))"
   ]
  },
  {
   "cell_type": "code",
   "execution_count": null,
   "metadata": {},
   "outputs": [],
   "source": [
    "# Handle missing values\n",
    "# Numerical columns: Impute with median\n",
    "num_cols = ['age', 'experience', 'salary', 'performance_score', 'training_hours', 'leave_days']\n",
    "for col in num_cols:\n",
    "    df[col] = df[col].fillna(df[col].median())"
   ]
  },
  {
   "cell_type": "code",
   "execution_count": null,
   "metadata": {},
   "outputs": [],
   "source": [
    "# Categorical columns: Impute with mode\n",
    "cat_cols = ['department', 'gender', 'promotion_eligibility']\n",
    "for col in cat_cols:\n",
    "    df[col] = df[col].fillna(df[col].mode()[0])"
   ]
  },
  {
   "cell_type": "code",
   "execution_count": null,
   "metadata": {},
   "outputs": [],
   "source": [
    "# Remove duplicates\n",
    "df = df.drop_duplicates(subset=['employee_id'], keep='first')"
   ]
  },
  {
   "cell_type": "code",
   "execution_count": null,
   "metadata": {},
   "outputs": [],
   "source": [
    "# Treat outliers using IQR for numerical columns\n",
    "def treat_outliers(df, column):\n",
    "    Q1 = df[column].quantile(0.25)\n",
    "    Q3 = df[column].quantile(0.75)\n",
    "    IQR = Q3 - Q1\n",
    "    lower_bound = Q1 - 1.5 * IQR\n",
    "    upper_bound = Q3 + 1.5 * IQR\n",
    "    df[column] = np.where(df[column] > upper_bound, upper_bound, \n",
    "                         np.where(df[column] < lower_bound, lower_bound, df[column]))\n",
    "    return df\n",
    "\n",
    "for col in num_cols:\n",
    "    df = treat_outliers(df, col)\n"
   ]
  },
  {
   "cell_type": "code",
   "execution_count": null,
   "metadata": {},
   "outputs": [],
   "source": [
    "# Standardize categorical values\n",
    "df['department'] = df['department'].str.title()\n",
    "df['gender'] = df['gender'].str.title()"
   ]
  },
  {
   "cell_type": "markdown",
   "metadata": {},
   "source": [
    "Step 2: Exploratory Data Analysis (EDA)"
   ]
  },
  {
   "cell_type": "code",
   "execution_count": null,
   "metadata": {},
   "outputs": [],
   "source": [
    "# Summary statistics\n",
    "print(df.describe())\n",
    "\n",
    "# Frequency distributions for categorical variables\n",
    "print(df['department'].value_counts())\n",
    "print(df['gender'].value_counts())"
   ]
  },
  {
   "cell_type": "code",
   "execution_count": null,
   "metadata": {},
   "outputs": [],
   "source": [
    "# Visualizations\n",
    "plt.figure(figsize=(12, 6))\n",
    "sns.histplot(df['salary'], kde=True)\n",
    "plt.title('Salary Distribution')\n",
    "plt.show()\n",
    "\n",
    "sns.boxplot(df['performance_score'])\n",
    "plt.title('Performance Score Distribution')\n",
    "plt.show()"
   ]
  },
  {
   "cell_type": "markdown",
   "metadata": {},
   "source": [
    "Bivariate Analysis"
   ]
  },
  {
   "cell_type": "code",
   "execution_count": null,
   "metadata": {},
   "outputs": [],
   "source": [
    "# Correlation matrix\n",
    "corr_matrix = df[num_cols].corr()\n",
    "sns.heatmap(corr_matrix, annot=True, cmap='coolwarm')\n",
    "plt.title('Correlation Matrix')\n",
    "plt.show()"
   ]
  },
  {
   "cell_type": "code",
   "execution_count": null,
   "metadata": {},
   "outputs": [],
   "source": [
    "# Scatter plot: Salary vs Performance Score\n",
    "sns.scatterplot(data=df, x='salary', y='performance_score', hue='department')\n",
    "plt.title('Salary vs Performance Score')\n",
    "plt.show()"
   ]
  },
  {
   "cell_type": "code",
   "execution_count": null,
   "metadata": {},
   "outputs": [],
   "source": [
    "# Box plot: Department vs Salary\n",
    "plt.figure(figsize=(10, 6))\n",
    "sns.boxplot(data=df, x='department', y='salary')\n",
    "plt.title('Salary Distribution by Department')\n",
    "plt.xticks(rotation=45)\n",
    "plt.show()"
   ]
  },
  {
   "cell_type": "markdown",
   "metadata": {},
   "source": [
    "Multivariate Analysis"
   ]
  },
  {
   "cell_type": "code",
   "execution_count": null,
   "metadata": {},
   "outputs": [],
   "source": [
    "# Pair plot\n",
    "sns.pairplot(df[num_cols], diag_kind='kde')\n",
    "plt.show()\n",
    "\n",
    "# Grouped comparison: Average performance by department and gender\n",
    "grouped = df.groupby(['department', 'gender'])['performance_score'].mean().reset_index()\n",
    "sns.barplot(data=grouped, x='department', y='performance_score', hue='gender')\n",
    "plt.title('Average Performance by Department and Gender')\n",
    "plt.xticks(rotation=45)\n",
    "plt.show()"
   ]
  },
  {
   "cell_type": "markdown",
   "metadata": {},
   "source": [
    "Key Findings\n",
    "Data Cleaning Insights:\n",
    "\n",
    "Missing values in age, performance_score, and gender were imputed.\n",
    "\n",
    "Duplicate employee records (e.g., EMP0129) were removed.\n",
    "\n",
    "Outliers in salary and training_hours were capped using IQR.\n",
    "\n",
    "EDA Highlights:\n",
    "\n",
    "Salary: IT and Finance departments have higher median salaries.\n",
    "\n",
    "Performance: Sales has the highest variance in performance scores.\n",
    "\n",
    "Correlation: experience and salary show a moderate positive correlation \n",
    "r\n",
    "=\n",
    "0.58\n",
    "r=0.58\n",
    "\n",
    "Gender: Female employees in HR have higher average performance scores compared to males."
   ]
  },
  {
   "cell_type": "code",
   "execution_count": null,
   "metadata": {},
   "outputs": [],
   "source": []
  }
 ],
 "metadata": {
  "kernelspec": {
   "display_name": "Python 3",
   "language": "python",
   "name": "python3"
  },
  "language_info": {
   "codemirror_mode": {
    "name": "ipython",
    "version": 3
   },
   "file_extension": ".py",
   "mimetype": "text/x-python",
   "name": "python",
   "nbconvert_exporter": "python",
   "pygments_lexer": "ipython3",
   "version": "3.12.3"
  }
 },
 "nbformat": 4,
 "nbformat_minor": 2
}
